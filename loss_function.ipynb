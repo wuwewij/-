{
  "nbformat": 4,
  "nbformat_minor": 0,
  "metadata": {
    "colab": {
      "provenance": [],
      "authorship_tag": "ABX9TyN7Q28KWOYWems6sJhFcpD6",
      "include_colab_link": true
    },
    "kernelspec": {
      "name": "python3",
      "display_name": "Python 3"
    },
    "language_info": {
      "name": "python"
    }
  },
  "cells": [
    {
      "cell_type": "markdown",
      "metadata": {
        "id": "view-in-github",
        "colab_type": "text"
      },
      "source": [
        "<a href=\"https://colab.research.google.com/github/wuwewij/bachelor_thesis/blob/main/loss_function.ipynb\" target=\"_parent\"><img src=\"https://colab.research.google.com/assets/colab-badge.svg\" alt=\"Open In Colab\"/></a>"
      ]
    },
    {
      "cell_type": "markdown",
      "source": [
        "混合损失"
      ],
      "metadata": {
        "id": "8PQOw6JtwBKb"
      }
    },
    {
      "cell_type": "code",
      "execution_count": 1,
      "metadata": {
        "colab": {
          "base_uri": "https://localhost:8080/",
          "height": 223
        },
        "id": "XSvTtjElv6a8",
        "outputId": "764b8799-582d-40dc-f69c-fc7193394f21"
      },
      "outputs": [
        {
          "output_type": "error",
          "ename": "NameError",
          "evalue": "name 'nn' is not defined",
          "traceback": [
            "\u001b[0;31m---------------------------------------------------------------------------\u001b[0m",
            "\u001b[0;31mNameError\u001b[0m                                 Traceback (most recent call last)",
            "\u001b[0;32m<ipython-input-1-931aac7a918a>\u001b[0m in \u001b[0;36m<cell line: 1>\u001b[0;34m()\u001b[0m\n\u001b[0;32m----> 1\u001b[0;31m \u001b[0mmse_loss\u001b[0m \u001b[0;34m=\u001b[0m \u001b[0mnn\u001b[0m\u001b[0;34m.\u001b[0m\u001b[0mMSELoss\u001b[0m\u001b[0;34m(\u001b[0m\u001b[0;34m)\u001b[0m\u001b[0;34m\u001b[0m\u001b[0;34m\u001b[0m\u001b[0m\n\u001b[0m\u001b[1;32m      2\u001b[0m \u001b[0mssim_loss\u001b[0m \u001b[0;34m=\u001b[0m \u001b[0mSSIM\u001b[0m\u001b[0;34m(\u001b[0m\u001b[0mdata_range\u001b[0m\u001b[0;34m=\u001b[0m\u001b[0;36m1.0\u001b[0m\u001b[0;34m,\u001b[0m \u001b[0msize_average\u001b[0m\u001b[0;34m=\u001b[0m\u001b[0;32mTrue\u001b[0m\u001b[0;34m)\u001b[0m\u001b[0;34m\u001b[0m\u001b[0;34m\u001b[0m\u001b[0m\n\u001b[1;32m      3\u001b[0m \u001b[0;34m\u001b[0m\u001b[0m\n\u001b[1;32m      4\u001b[0m \u001b[0moutput\u001b[0m \u001b[0;34m=\u001b[0m \u001b[0mmodel\u001b[0m\u001b[0;34m(\u001b[0m\u001b[0mdata\u001b[0m\u001b[0;34m)\u001b[0m\u001b[0;34m\u001b[0m\u001b[0;34m\u001b[0m\u001b[0m\n\u001b[1;32m      5\u001b[0m \u001b[0mtarget\u001b[0m \u001b[0;34m=\u001b[0m \u001b[0moriginal_data\u001b[0m\u001b[0;34m\u001b[0m\u001b[0;34m\u001b[0m\u001b[0m\n",
            "\u001b[0;31mNameError\u001b[0m: name 'nn' is not defined"
          ]
        }
      ],
      "source": [
        "mse_loss = nn.MSELoss()\n",
        "ssim_loss = SSIM(data_range=1.0, size_average=True)\n",
        "\n",
        "output = model(data)\n",
        "target = original_data\n",
        "\n",
        "loss_value = 0.5 * mse_loss(output, target) + 0.5 * (1 - ssim_loss(output, target))\n"
      ]
    },
    {
      "cell_type": "markdown",
      "source": [
        "MSE"
      ],
      "metadata": {
        "id": "ot_cg8WOwAGt"
      }
    },
    {
      "cell_type": "code",
      "source": [
        "loss = nn.MSELoss()\n",
        "output = model(data)  # 模型输出\n",
        "target = original_data  # 原始数据\n",
        "loss_value = loss(output, target)"
      ],
      "metadata": {
        "id": "EVbvXnoOv9uX"
      },
      "execution_count": null,
      "outputs": []
    },
    {
      "cell_type": "markdown",
      "source": [
        "MAE"
      ],
      "metadata": {
        "id": "N9F8CtlZwpVm"
      }
    },
    {
      "cell_type": "code",
      "source": [
        "loss = nn.L1Loss()\n",
        "output = model(data)\n",
        "target = original_data\n",
        "loss_value = loss(output, target)\n"
      ],
      "metadata": {
        "id": "uc6sVMoLwolU"
      },
      "execution_count": null,
      "outputs": []
    },
    {
      "cell_type": "markdown",
      "source": [
        "SSIM"
      ],
      "metadata": {
        "id": "n8fv0doawtKg"
      }
    },
    {
      "cell_type": "code",
      "source": [
        "from pytorch_msssim import ssim, ms_ssim, SSIM, MS_SSIM\n",
        "\n",
        "# 使用单个 SSIM\n",
        "loss = SSIM(data_range=1.0, size_average=True)\n",
        "output = model(data)\n",
        "target = original_data\n",
        "loss_value = 1 - loss(output, target)  # SSIM 越高，损失越低\n"
      ],
      "metadata": {
        "id": "gpRty0NgwtgG"
      },
      "execution_count": null,
      "outputs": []
    }
  ]
}